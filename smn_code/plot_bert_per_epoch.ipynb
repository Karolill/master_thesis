{
 "cells": [
  {
   "cell_type": "markdown",
   "id": "8c0fdd38",
   "metadata": {},
   "source": [
    "# Plot the training curve\n",
    "\n",
    "Plot the F1-score of the negative class each model achieves after each of the 5 epochs of training. "
   ]
  },
  {
   "cell_type": "code",
   "execution_count": null,
   "id": "37af4aad",
   "metadata": {},
   "outputs": [],
   "source": [
    "from plotting import *"
   ]
  },
  {
   "cell_type": "code",
   "execution_count": null,
   "id": "9fad2006",
   "metadata": {},
   "outputs": [],
   "source": [
    "plot_from_file(['./scores/state_distilmbert_LR3e-05_WR0.01_OPTIMadamw_hf_WD0.01',\n",
    "                './scores/state_nb-bert_LR5e-05_WR0.1_OPTIMadamw_hf_WD0',\n",
    "                './scores/state_norbert_LR5e-05_WR0_OPTIMadamw_hf_WD0.01',\n",
    "                './scores/state_mbert_LR3e-05_WR0.1_OPTIMadamw_hf_WD0.1',\n",
    "               ])"
   ]
  }
 ],
 "metadata": {
  "kernelspec": {
   "display_name": "Python 3 (ipykernel)",
   "language": "python",
   "name": "python3"
  },
  "language_info": {
   "codemirror_mode": {
    "name": "ipython",
    "version": 3
   },
   "file_extension": ".py",
   "mimetype": "text/x-python",
   "name": "python",
   "nbconvert_exporter": "python",
   "pygments_lexer": "ipython3",
   "version": "3.10.8"
  }
 },
 "nbformat": 4,
 "nbformat_minor": 5
}
