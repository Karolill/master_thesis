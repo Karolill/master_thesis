{
 "cells": [
  {
   "cell_type": "code",
   "execution_count": null,
   "id": "a14e154d",
   "metadata": {
    "scrolled": true
   },
   "outputs": [],
   "source": [
    "nltk.download('punkt')"
   ]
  },
  {
   "cell_type": "code",
   "execution_count": null,
   "id": "8ec59f07",
   "metadata": {},
   "outputs": [],
   "source": [
    "import pandas as pd\n",
    "import matplotlib.pyplot as plt\n",
    "from wordcloud import WordCloud\n",
    "import nltk\n",
    "from functools import reduce"
   ]
  },
  {
   "cell_type": "code",
   "execution_count": null,
   "id": "339b0102",
   "metadata": {
    "scrolled": true
   },
   "outputs": [],
   "source": [
    "df = pd.read_csv('')  # TODO: input csv file containing the dataset here"
   ]
  },
  {
   "cell_type": "code",
   "execution_count": null,
   "id": "3ed48953",
   "metadata": {},
   "outputs": [],
   "source": [
    "text = \" \".join(email for email in df.email)\n",
    "\n",
    "# The following words are used to replace other words (names, numbers etc) and are therefore irrelevant\n",
    "text = text.replace('[PERSON]', '')\n",
    "text = text.replace('[SIFFER]', '')\n",
    "text = text.replace('[EPOST]', '')\n",
    "\n",
    "# Remove stopwords\n",
    "stop_words = nltk.corpus.stopwords.words('norwegian')\n",
    "words = nltk.word_tokenize(text)\n",
    "words = [w for w in words if not w.lower() in stop_words]\n",
    "\n",
    "# Perform stemming\n",
    "stemmer = nltk.stem.snowball.NorwegianStemmer()\n",
    "text = reduce(lambda x, y: x + \" \" + stemmer.stem(y), words, \"\")"
   ]
  },
  {
   "cell_type": "code",
   "execution_count": null,
   "id": "4a4f0815",
   "metadata": {},
   "outputs": [],
   "source": [
    "# Creating word_cloud with text as argument in .generate() method\n",
    "word_cloud = WordCloud(collocations = False, \n",
    "                       background_color = 'white', \n",
    "                       max_words=200, \n",
    "                       colormap='plasma',\n",
    "                       width=1600, \n",
    "                       height=800).generate(text)\n",
    "# Display the generated Word Cloud\n",
    "plt.figure(figsize=(20,10))\n",
    "plt.imshow(word_cloud, interpolation='bilinear')\n",
    "plt.axis(\"off\")\n",
    "plt.tight_layout(pad=0)\n",
    "plt.savefig(\"wordcloud.pdf\", format=\"pdf\")\n",
    "plt.show()"
   ]
  }
 ],
 "metadata": {
  "kernelspec": {
   "display_name": "Python 3 (ipykernel)",
   "language": "python",
   "name": "python3"
  },
  "language_info": {
   "codemirror_mode": {
    "name": "ipython",
    "version": 3
   },
   "file_extension": ".py",
   "mimetype": "text/x-python",
   "name": "python",
   "nbconvert_exporter": "python",
   "pygments_lexer": "ipython3",
   "version": "3.10.8"
  }
 },
 "nbformat": 4,
 "nbformat_minor": 5
}
