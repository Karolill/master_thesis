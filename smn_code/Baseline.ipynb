{
 "cells": [
  {
   "cell_type": "markdown",
   "id": "758553ba",
   "metadata": {},
   "source": [
    "# Baseline\n",
    "\n",
    "This code will run a baseline model that the transformer based language models can be compared to. Four steps must be performed: normalization, vectorization, training and prediction. This code uses the baseline.py file which is very similar to the code used to create the baseline for NoReC.\n",
    "\n",
    "Inspired by [this post](https://medium.com/analytics-vidhya/sentiment-analysis-on-amazon-reviews-using-tf-idf-approach-c5ab4c36e7a1). "
   ]
  },
  {
   "cell_type": "code",
   "execution_count": null,
   "id": "ab663598",
   "metadata": {
    "scrolled": true
   },
   "outputs": [],
   "source": [
    "from sklearn.svm import SVC\n",
    "from sklearn.linear_model import LogisticRegression\n",
    "from sklearn.neighbors import KNeighborsClassifier\n",
    "from baseline import *\n",
    "import pandas as pd"
   ]
  },
  {
   "cell_type": "code",
   "execution_count": null,
   "id": "7ab53638",
   "metadata": {},
   "outputs": [],
   "source": [
    "train = pd.read_csv('./emails_train_balanced.csv')\n",
    "test = pd.read_csv('./emails_test.csv')\n",
    "\n",
    "# For some reason the train and test set had different formats\n",
    "test.loc[test['label'] == 'LABEL_0', 'label'] = 0\n",
    "test.loc[test['label'] == 'LABEL_1', 'label'] = 1"
   ]
  },
  {
   "cell_type": "code",
   "execution_count": null,
   "id": "eaa5bcae",
   "metadata": {
    "scrolled": true
   },
   "outputs": [],
   "source": [
    "# To ensure that the baseline model compared to the BERT models are of a decent quality, a grid search is performed\n",
    "# to find a good set of parameters. \n",
    "find_best_params(train, test)"
   ]
  },
  {
   "cell_type": "code",
   "execution_count": null,
   "id": "2e822e5a",
   "metadata": {},
   "outputs": [],
   "source": [
    "# Use the best parameters found above to make predictions. \n",
    "test_best_models(train, test, \n",
    "                 [SVC(C=1, gamma=1), \n",
    "                  LogisticRegression(C=1, penalty='l2', solver='lbfgs'), \n",
    "                  KNeighborsClassifier(leaf_size=5, n_neighbors=20, weights='distance')\n",
    "                 ])"
   ]
  }
 ],
 "metadata": {
  "kernelspec": {
   "display_name": "Python 3 (ipykernel)",
   "language": "python",
   "name": "python3"
  },
  "language_info": {
   "codemirror_mode": {
    "name": "ipython",
    "version": 3
   },
   "file_extension": ".py",
   "mimetype": "text/x-python",
   "name": "python",
   "nbconvert_exporter": "python",
   "pygments_lexer": "ipython3",
   "version": "3.10.8"
  }
 },
 "nbformat": 4,
 "nbformat_minor": 5
}
